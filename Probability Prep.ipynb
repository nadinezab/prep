{
 "cells": [
  {
   "cell_type": "markdown",
   "metadata": {},
   "source": [
    "# Probability Prep"
   ]
  },
  {
   "cell_type": "markdown",
   "metadata": {},
   "source": [
    "## Notes"
   ]
  },
  {
   "cell_type": "markdown",
   "metadata": {},
   "source": [
    "### Sets"
   ]
  },
  {
   "cell_type": "markdown",
   "metadata": {},
   "source": [
    "A set is defined as a *well-defined collection of objects*. \n",
    "\n",
    "We denote a set by $S$. If an element $x$ belongs to a set $S$, then we write $x \\in S$. On the other hand, if $x$ does not belong to a set $S$, we write $x\\notin S$.\n",
    "\n",
    "The collection of all possible outcomes in a certain context or universe is called the **universal set**, often denoted by $\\Omega$.\n",
    "\n",
    "The union of two sets $S$ and $T$, denoted by $S \\cup T$, is the set of elements of either S or T, or in both.\n",
    "\n",
    "The intersection of two sets $S$ and $T$, denoted by $S \\cap T$, is the set that contains all elements of $S$ that also belong to $T$. \n",
    "\n",
    "When having two sets, the method for counting the number of elements in the union of two finite sets is given by:\n",
    "\n",
    "$\\mid S \\cup T \\mid = \\mid S \\mid + \\mid T \\mid - \\mid S \\cap T \\mid $,\n",
    "\n",
    "where the horizontal lines denote the *cardinality* of a set, which is the number of elements in the set, considering a set with a finite number of elements. \n",
    "This formula can be extended. The number of elements in the union of three finite sets is given by:\n",
    "\n",
    "$\\mid S \\cup T\\cup R \\mid = \\mid S \\mid + \\mid T \\mid + \\mid R \\mid - \\mid S \\cap T \\mid  -\\mid S \\cap R \\mid - \\mid R \\cap T \\mid  + \\mid S \\cap T \\cap R \\mid $"
   ]
  },
  {
   "cell_type": "markdown",
   "metadata": {},
   "source": [
    "### Probability axioms"
   ]
  },
  {
   "cell_type": "markdown",
   "metadata": {},
   "source": [
    "1. Positivity\n",
    "\n",
    "A probability is always bigger than or equal to 0, or $0 \\leq P(E) \\leq 1$\n",
    "\n",
    "2. Probability of a certain event\n",
    "\n",
    "If the event of interest is the sample space, we say that the outcome is a certain event, or $P(S) = 1$\n",
    "\n",
    "3. Additivity \n",
    "\n",
    "The probability of the union of two exclusive events is equal to the sum of the probabilities of the individual events happening.\n",
    "\n",
    "If $A \\cap B = \\emptyset $, then $P(A\\cup B) = P(A) + P(B)$ "
   ]
  },
  {
   "cell_type": "markdown",
   "metadata": {},
   "source": [
    "### Addition Law of Probability"
   ]
  },
  {
   "cell_type": "markdown",
   "metadata": {},
   "source": [
    "$P(A\\cup B) = P(A) + P(B) - P(A \\cap B) $ \n",
    "\n",
    "The probability that $A$ or $B$ will happen is the sum of the probabilities that $A$ will happen and that $B$ will happen, minus the probability that *both* $A$ and $B$ will happen."
   ]
  },
  {
   "cell_type": "markdown",
   "metadata": {},
   "source": [
    "### Permutations"
   ]
  },
  {
   "cell_type": "markdown",
   "metadata": {},
   "source": [
    "How many ways we can select $k$ elements out of a pool of $n$ objects. The answer is \n",
    "\n",
    "$n*(n-1)*...*(n-k+1)$ or in other words, $P_{k}^{n}= \\dfrac{n!}{(n-k)!}$\n",
    "\n",
    "This is known as a $k$-permutation of $n$.\n",
    "\n",
    "**With replacement**\n",
    "\n",
    "The number of permutations with replacement when having $n$ distinct objects is equal to $n^j$ where $j$ is the number of \"draws\".\n",
    "\n",
    "**With repetition** (e.g. letters in a word)\n",
    "\n",
    "The general formula can be written as:\n",
    "\n",
    "$\\dfrac{n!}{n_1!n_2!\\ldots n_k!}$\n",
    "\n",
    "where $n_j$ stands for identical objects of type $j$"
   ]
  },
  {
   "cell_type": "markdown",
   "metadata": {},
   "source": [
    "### Combinations"
   ]
  },
  {
   "cell_type": "markdown",
   "metadata": {},
   "source": [
    "When the order of the selection is not important. We are looking at how many ways can we create a subset $k$ out of $n$ objects.\n",
    "\n",
    "$$\\displaystyle\\binom{n}{k} = \\dfrac{P_{k}^{n}}{k!}=\\dfrac{ \\dfrac{n!}{(n-k)!}}{k!} = \\dfrac{n!}{(n-k)!k!}$$"
   ]
  },
  {
   "cell_type": "markdown",
   "metadata": {},
   "source": [
    "## Problems"
   ]
  },
  {
   "cell_type": "markdown",
   "metadata": {},
   "source": [
    "### Word permutation"
   ]
  },
  {
   "cell_type": "markdown",
   "metadata": {},
   "source": [
    "Let's say you have the letters of the word \"TENNESSEE\". How many different words can you create using these letters?\n",
    "\n",
    "**Answer**\n",
    "\n",
    "Simply saying that there are 9 letters so the answer is $9!$ does not give you the correct answer. Looking at the word TENNESSEE by itself, you can swap the 3rd and the 4th letter and have the same word. So the total number is less than $9!$.\n",
    "\n",
    "The solution is to divide $9!$ by the factorials for each letter that is repeated!\n",
    "\n",
    "The answer here is then (9 letters, 4 x E, 2 x N, 2 x S)\n",
    "\n",
    "$\\dfrac{9!}{4!2!2!} = 3780$"
   ]
  },
  {
   "cell_type": "markdown",
   "metadata": {},
   "source": [
    "### Cards without replacement"
   ]
  },
  {
   "cell_type": "markdown",
   "metadata": {},
   "source": [
    "You pull two cards, one at a time, from a deck of cards without replacement.\n",
    "\n",
    "What is probability that the second card you pick is a different color or different shape card than the first card?\n",
    "\n",
    "**Answer**\n",
    "\n",
    "P (different color or shape) = 1 - P (Same color and shape) = 1- 12/51 = 39/51.\n",
    "\n",
    "P(Same color and shape) = P (Same shape) = 12/51 as there are 13 cards of each suit, and 52 cards in a deck and we have chosen one already, so (13-1)/(52-1)"
   ]
  },
  {
   "cell_type": "code",
   "execution_count": null,
   "metadata": {},
   "outputs": [],
   "source": []
  }
 ],
 "metadata": {
  "kernelspec": {
   "display_name": "Python 3",
   "language": "python",
   "name": "python3"
  },
  "language_info": {
   "codemirror_mode": {
    "name": "ipython",
    "version": 3
   },
   "file_extension": ".py",
   "mimetype": "text/x-python",
   "name": "python",
   "nbconvert_exporter": "python",
   "pygments_lexer": "ipython3",
   "version": "3.6.9"
  },
  "toc": {
   "base_numbering": 1,
   "nav_menu": {},
   "number_sections": true,
   "sideBar": true,
   "skip_h1_title": true,
   "title_cell": "Table of Contents",
   "title_sidebar": "Contents",
   "toc_cell": false,
   "toc_position": {},
   "toc_section_display": true,
   "toc_window_display": true
  }
 },
 "nbformat": 4,
 "nbformat_minor": 2
}
