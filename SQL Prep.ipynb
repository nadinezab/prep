{
 "cells": [
  {
   "cell_type": "markdown",
   "metadata": {},
   "source": [
    "# SQL Prep"
   ]
  },
  {
   "cell_type": "markdown",
   "metadata": {},
   "source": [
    "## Recap"
   ]
  },
  {
   "cell_type": "markdown",
   "metadata": {},
   "source": [
    "Note: From Khan Academy *Intro to SQL* course."
   ]
  },
  {
   "cell_type": "markdown",
   "metadata": {},
   "source": [
    "### Creating tables"
   ]
  },
  {
   "cell_type": "markdown",
   "metadata": {},
   "source": [
    "``` CREATE TABLE customers (id INTEGER PRIMARY KEY, name TEXT, age INTEGER, weight REAL);\n",
    "```"
   ]
  },
  {
   "cell_type": "markdown",
   "metadata": {},
   "source": [
    "### Inserting data"
   ]
  },
  {
   "cell_type": "markdown",
   "metadata": {},
   "source": [
    "```INSERT INTO customers VALUES (73, \"Brian\", 33);```"
   ]
  },
  {
   "cell_type": "markdown",
   "metadata": {},
   "source": [
    "```INSERT INTO customers (name, age) VALUES (\"Brian\", 33);```"
   ]
  },
  {
   "cell_type": "markdown",
   "metadata": {},
   "source": [
    "### Querying data"
   ]
  },
  {
   "cell_type": "markdown",
   "metadata": {},
   "source": [
    "Select everything\n",
    "\n",
    "```SELECT * FROM customers;```\n",
    "\n",
    "Filter with condition\n",
    "\n",
    "```SELECT * FROM customers \n",
    "   WHERE age > 21;```\n",
    "\n",
    "Order results\n",
    "\n",
    "```SELECT * FROM customers \n",
    "    WHERE age > 21 \n",
    "    ORDER BY age DESC;```\n",
    "    \n",
    "Transform with case\n",
    "\n",
    "```SELECT name, \n",
    "    CASE \n",
    "        WHEN age > 18 THEN \"adult\" \n",
    "        ELSE \"minor\" \n",
    "    END \"type\" \n",
    "    FROM customers;```\n",
    "    "
   ]
  },
  {
   "cell_type": "markdown",
   "metadata": {},
   "source": [
    "### Grouping data"
   ]
  },
  {
   "cell_type": "markdown",
   "metadata": {},
   "source": [
    "Using Group by\n",
    "\n",
    "```SELECT gender, COUNT(*) \n",
    "    FROM students \n",
    "    GROUP BY gender;```\n",
    "\n",
    "Filtering with having\n",
    "\n",
    "```SELECT gender, COUNT(*) \n",
    "    FROM students \n",
    "    GROUP BY gender\n",
    "    HAVING COUNT(*) > 10;```"
   ]
  },
  {
   "cell_type": "markdown",
   "metadata": {},
   "source": [
    "### Joining tables"
   ]
  },
  {
   "cell_type": "markdown",
   "metadata": {},
   "source": [
    "Inner join\n",
    "\n",
    "```SELECT customers.name, orders.item \n",
    "    FROM customers \n",
    "    JOIN orders \n",
    "    ON customers.id = orders.customer_id;```"
   ]
  },
  {
   "cell_type": "markdown",
   "metadata": {},
   "source": [
    "## Practice Questions"
   ]
  },
  {
   "cell_type": "markdown",
   "metadata": {},
   "source": [
    "### Q1 - From FaceBook"
   ]
  },
  {
   "cell_type": "markdown",
   "metadata": {},
   "source": [
    "**Assume we have a table of employee information, which includes salary information. Write a query to find the names and salaries of the top 5 highest paid employees, in descending order.**"
   ]
  },
  {
   "cell_type": "code",
   "execution_count": null,
   "metadata": {},
   "outputs": [],
   "source": [
    "'''\n",
    "SELECT name, salary\n",
    "FROM employees\n",
    "ORDER BY salary DESC\n",
    "LIMIT 5;\n",
    "'''"
   ]
  },
  {
   "cell_type": "markdown",
   "metadata": {},
   "source": [
    "### Question 2 - From Amazon\n",
    "\n",
    "Assume we have two SQL tables: `authors` and `books`. The authors table has a few million rows, and looks like this: \n",
    "\n",
    "| author_name | book_name |\n",
    "|:-----------:|:---------:|\n",
    "|   author_1  |   book_1  |\n",
    "|   author_1  |   book_2  |\n",
    "|   author_2  |   book_3  |\n",
    "|   author_2  |   book_4  |\n",
    "|   author_2  |   book_5  |\n",
    "|   author_3  |   book_6  |\n",
    "\n",
    "The books dataset also has a few million rows, and looks like this:\n",
    "\n",
    "| book_name | copies_sold |\n",
    "|:---------:|:-----------:|\n",
    "|   book_1  |    10000    |\n",
    "|   book_2  |     2575    |\n",
    "|   book_3  |    60000    |\n",
    "|   book_4  |    98000    |\n",
    "|   book_5  |     5250    |\n",
    "|   book_6  |    19775    |\n",
    "\n",
    "Write an SQL query that shows the top 3 authors who sold the most total books. "
   ]
  },
  {
   "cell_type": "code",
   "execution_count": null,
   "metadata": {},
   "outputs": [],
   "source": [
    "'''\n",
    "SELECT authors.author_name, SUM(books.copies_sold) as total_sold\n",
    "FROM authors\n",
    "JOIN books\n",
    "ON authors.book_name = books.book_name\n",
    "GROUP BY authors.author_name\n",
    "ORDER BY total_sold DESC\n",
    "LIMIT 3;\n",
    "'''"
   ]
  },
  {
   "cell_type": "markdown",
   "metadata": {},
   "source": [
    "### Question 3 - From Amazon:\n",
    "\n",
    "Assume you have two tables, `customers` and `orders`. Write a SQL query to select all customers who purchased at least 2 items on two separate days. "
   ]
  },
  {
   "cell_type": "code",
   "execution_count": null,
   "metadata": {},
   "outputs": [],
   "source": [
    "'''\n",
    "SELECT c.customer_name, COUNT(DISTINCT o.order_date) as NumOrderDates\n",
    "FROM (SELECT c.customer_name, o.quantity\n",
    "      FROM customers c\n",
    "      JOIN orders o\n",
    "      ON c.orderNumber = o.orderNumber\n",
    "      WHERE o.quantity > 1)\n",
    "WHERE NumOrderDates >1\n",
    "'''"
   ]
  },
  {
   "cell_type": "markdown",
   "metadata": {},
   "source": [
    "### Question 4 - From Twitter:\n",
    "\n",
    "A company uses 2 data tables, Employee and Department, to store data about its employees and departments.\n",
    "\n",
    "Table Name: Employee\n",
    "\n",
    "Attributes:\n",
    "\n",
    "* ID Integer,\n",
    "* NAME String,\n",
    "* SALARY Integer,\n",
    "* DEPT_ID Integer\n",
    "\n",
    "Table Name: Department\n",
    "\n",
    "Attributes:\n",
    "* DEPT_ID Integer,\n",
    "* NAME String,\n",
    "* LOCATION String\n",
    "\n",
    "Write a query to print the respective Department Name and number of employees for all departments in the Department table (even unstaffed ones).\n",
    "\n",
    "Sort your result in descending order of employees per department; if two or more departments have the same number of employees, then sort those departments alphabetically by Department Name."
   ]
  },
  {
   "cell_type": "code",
   "execution_count": null,
   "metadata": {},
   "outputs": [],
   "source": [
    "'''\n",
    "SELECT d.name, COUNT(e.id) as EmployeeCount\n",
    "FROM Department d\n",
    "LEFT OUTER JOIN Employee e\n",
    "ON d.dept_id = e.dept_id\n",
    "ORDER BY EmployeeCount DESC, d.NAME\n",
    "'''"
   ]
  }
 ],
 "metadata": {
  "kernelspec": {
   "display_name": "Python 3",
   "language": "python",
   "name": "python3"
  },
  "language_info": {
   "codemirror_mode": {
    "name": "ipython",
    "version": 3
   },
   "file_extension": ".py",
   "mimetype": "text/x-python",
   "name": "python",
   "nbconvert_exporter": "python",
   "pygments_lexer": "ipython3",
   "version": "3.6.9"
  },
  "toc": {
   "base_numbering": 1,
   "nav_menu": {},
   "number_sections": true,
   "sideBar": true,
   "skip_h1_title": true,
   "title_cell": "Table of Contents",
   "title_sidebar": "Contents",
   "toc_cell": false,
   "toc_position": {},
   "toc_section_display": true,
   "toc_window_display": true
  }
 },
 "nbformat": 4,
 "nbformat_minor": 2
}
