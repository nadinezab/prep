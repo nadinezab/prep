{
 "cells": [
  {
   "cell_type": "markdown",
   "metadata": {},
   "source": [
    "# SQL Prep"
   ]
  },
  {
   "cell_type": "markdown",
   "metadata": {},
   "source": [
    "## Recap"
   ]
  },
  {
   "cell_type": "markdown",
   "metadata": {},
   "source": [
    "### Creating tables"
   ]
  },
  {
   "cell_type": "markdown",
   "metadata": {},
   "source": [
    "``` CREATE TABLE customers (id INTEGER PRIMARY KEY, name TEXT, age INTEGER, weight REAL);\n",
    "```"
   ]
  },
  {
   "cell_type": "markdown",
   "metadata": {},
   "source": [
    "### Inserting data"
   ]
  },
  {
   "cell_type": "markdown",
   "metadata": {},
   "source": [
    "```INSERT INTO customers VALUES (73, \"Brian\", 33);```"
   ]
  },
  {
   "cell_type": "markdown",
   "metadata": {},
   "source": [
    "```INSERT INTO customers (name, age) VALUES (\"Brian\", 33);```"
   ]
  },
  {
   "cell_type": "markdown",
   "metadata": {},
   "source": [
    "### Querying data"
   ]
  },
  {
   "cell_type": "markdown",
   "metadata": {},
   "source": [
    "Select everything\n",
    "\n",
    "```SELECT * FROM customers;```\n",
    "\n",
    "Filter with condition\n",
    "\n",
    "```SELECT * FROM customers \n",
    "   WHERE age > 21;```\n",
    "\n",
    "Order results\n",
    "\n",
    "```SELECT * FROM customers \n",
    "    WHERE age > 21 \n",
    "    ORDER BY age DESC;```\n",
    "    \n",
    "Transform with case\n",
    "\n",
    "```SELECT name, \n",
    "    CASE \n",
    "        WHEN age > 18 THEN \"adult\" \n",
    "        ELSE \"minor\" \n",
    "    END \"type\" \n",
    "    FROM customers;```\n",
    "    "
   ]
  },
  {
   "cell_type": "markdown",
   "metadata": {},
   "source": [
    "### Grouping data"
   ]
  },
  {
   "cell_type": "markdown",
   "metadata": {},
   "source": [
    "Using Group by\n",
    "\n",
    "```SELECT gender, COUNT(*) \n",
    "    FROM students \n",
    "    GROUP BY gender;```\n",
    "\n",
    "Filtering with having\n",
    "\n",
    "```SELECT gender, COUNT(*) \n",
    "    FROM students \n",
    "    GROUP BY gender\n",
    "    HAVING COUNT(*) > 10;```"
   ]
  },
  {
   "cell_type": "markdown",
   "metadata": {},
   "source": [
    "### Joining tables"
   ]
  },
  {
   "cell_type": "markdown",
   "metadata": {},
   "source": [
    "Inner join\n",
    "\n",
    "```SELECT customers.name, orders.item \n",
    "    FROM customers \n",
    "    JOIN orders \n",
    "    ON customers.id = orders.customer_id;```"
   ]
  },
  {
   "cell_type": "markdown",
   "metadata": {},
   "source": [
    "## Practice Questions"
   ]
  },
  {
   "cell_type": "code",
   "execution_count": null,
   "metadata": {},
   "outputs": [],
   "source": []
  }
 ],
 "metadata": {
  "kernelspec": {
   "display_name": "Python 3",
   "language": "python",
   "name": "python3"
  },
  "language_info": {
   "codemirror_mode": {
    "name": "ipython",
    "version": 3
   },
   "file_extension": ".py",
   "mimetype": "text/x-python",
   "name": "python",
   "nbconvert_exporter": "python",
   "pygments_lexer": "ipython3",
   "version": "3.6.9"
  },
  "toc": {
   "base_numbering": 1,
   "nav_menu": {},
   "number_sections": true,
   "sideBar": true,
   "skip_h1_title": true,
   "title_cell": "Table of Contents",
   "title_sidebar": "Contents",
   "toc_cell": false,
   "toc_position": {},
   "toc_section_display": true,
   "toc_window_display": true
  }
 },
 "nbformat": 4,
 "nbformat_minor": 2
}
