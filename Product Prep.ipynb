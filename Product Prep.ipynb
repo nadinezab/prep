{
 "cells": [
  {
   "cell_type": "markdown",
   "metadata": {},
   "source": [
    "# Product Prep"
   ]
  },
  {
   "cell_type": "markdown",
   "metadata": {},
   "source": [
    "## Framework"
   ]
  },
  {
   "cell_type": "markdown",
   "metadata": {},
   "source": [
    "**1 Clarifying the question**\n",
    "\n",
    "What are the product goals? What's the context?\n",
    "\n",
    "**2 Make Assumptions**\n",
    "\n",
    "Narrow down the scope of the problem.\n",
    "\n",
    "**3 Analyze User Flows**\n",
    "\n",
    "Examine how the product works. How does a user get to a feature? How is the feature used?\n",
    "\n",
    "**4 Define Hypothesis**\n",
    "\n",
    "Start hypothesizing situations to explore that would answer the question\n",
    "\n",
    "**5 Draw Metrics to support**\n",
    "\n",
    "Choose metrics to prove or disprove hypothesis\n",
    "\n",
    "**6 Tie Analysis to product goals**\n",
    "\n",
    "Summary statement and prioritize next steps"
   ]
  },
  {
   "cell_type": "markdown",
   "metadata": {},
   "source": [
    "## Investigating Metrics"
   ]
  },
  {
   "cell_type": "markdown",
   "metadata": {},
   "source": [
    "**If X metric is up/down by Y percent, how would you investigate it?**\n",
    "\n",
    "Particular example: Let’s say that the number of friend requests sent is down by 10 percent. What would you investigate?\n"
   ]
  },
  {
   "cell_type": "markdown",
   "metadata": {},
   "source": [
    "### Clarification"
   ]
  },
  {
   "cell_type": "markdown",
   "metadata": {},
   "source": [
    "Consider time frame, was this a one-time event or a progressive moment?\n",
    "\n",
    "If one-time, then look into internal or external factors. Examples of external factors are a competitor launching or an environmental disaster hitting a large consumer base. Examples of an internal factor include bugs or a feature that caused a user to stop friend requests.\n",
    "\n",
    "Also need to clarify whether we're looking at accepted friend requests, or total requests sent."
   ]
  },
  {
   "cell_type": "code",
   "execution_count": null,
   "metadata": {},
   "outputs": [],
   "source": []
  }
 ],
 "metadata": {
  "kernelspec": {
   "display_name": "Python 3",
   "language": "python",
   "name": "python3"
  },
  "language_info": {
   "codemirror_mode": {
    "name": "ipython",
    "version": 3
   },
   "file_extension": ".py",
   "mimetype": "text/x-python",
   "name": "python",
   "nbconvert_exporter": "python",
   "pygments_lexer": "ipython3",
   "version": "3.6.9"
  },
  "toc": {
   "base_numbering": 1,
   "nav_menu": {},
   "number_sections": true,
   "sideBar": true,
   "skip_h1_title": true,
   "title_cell": "Table of Contents",
   "title_sidebar": "Contents",
   "toc_cell": false,
   "toc_position": {},
   "toc_section_display": true,
   "toc_window_display": true
  }
 },
 "nbformat": 4,
 "nbformat_minor": 2
}
