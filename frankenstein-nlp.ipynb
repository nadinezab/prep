{
 "cells": [
  {
   "cell_type": "markdown",
   "metadata": {},
   "source": [
    "# Frankenstein NLP Challenge"
   ]
  },
  {
   "cell_type": "markdown",
   "metadata": {},
   "source": [
    "**Problem Statement**\n",
    "In Python build a scraper that manipulates the associated text document (the first chapter of the book Frankenstein) to do the following:\n",
    "* Store all distinct words in the text in a dictionary and keep track of the word counts (make sure to strip all punctuation and lower the case of the words)\n",
    "* Find 4 hidden sentences in the text (they will be words bookended by special symbols)\n",
    "* Save the distinct word dictionary as a JSON file (call it 'word_count_dict.json')\n",
    "* Save the 4 hidden sentences together as a list of lists, then join them and print them with a for loop\n",
    "* Remove the 4 hidden sentences from the original text file and save a clean version of the first chapter of Frankenstein to a text file (call it 'Clean_Frankenstein.txt')\n",
    "* Plot a histogram of the count of words by word length for all words in the document"
   ]
  },
  {
   "cell_type": "code",
   "execution_count": 4,
   "metadata": {},
   "outputs": [],
   "source": [
    "# Import libraries\n",
    "from collections import defaultdict\n",
    "import json\n",
    "import re\n",
    "import pandas as pd\n",
    "import numpy as np\n",
    "import matplotlib.pyplot as plt\n",
    "import string \n",
    "\n",
    "%matplotlib inline"
   ]
  },
  {
   "cell_type": "code",
   "execution_count": 5,
   "metadata": {},
   "outputs": [],
   "source": [
    "# Define punctuation\n",
    "punctuation = list(string.punctuation)\n",
    "\n",
    "# Define function to remove punctuation\n",
    "def remove_punctuation(text):\n",
    "    no_punct = \"\"\n",
    "    for char in text:\n",
    "        if char not in punctuation:\n",
    "            no_punct += char\n",
    "    return no_punct"
   ]
  },
  {
   "cell_type": "code",
   "execution_count": 2,
   "metadata": {},
   "outputs": [],
   "source": [
    "def remove_punctuation(word):\n",
    "    \"\"\"\n",
    "    Clean up punctuation from words\n",
    "    \"\"\"\n",
    "    clean_word = re.sub(r'[^\\w\\s]', '', word)\n",
    "    clean_word = clean_word.lower()\n",
    "    return clean_word"
   ]
  },
  {
   "cell_type": "code",
   "execution_count": 9,
   "metadata": {},
   "outputs": [
    {
     "data": {
      "text/plain": [
       "'“Letter 1\\nTo Mrs. Saville, England. <Scrapers<\\nSt. Petersburgh, Dec. 11th, 17—.\\nYou will rejoice to '"
      ]
     },
     "execution_count": 9,
     "metadata": {},
     "output_type": "execute_result"
    }
   ],
   "source": [
    "with open(\"data/frankenstein.txt\") as f:\n",
    "    text = f.read()\n",
    "text[:100]"
   ]
  },
  {
   "cell_type": "code",
   "execution_count": 3,
   "metadata": {},
   "outputs": [],
   "source": [
    "def is_word_bookended(word):\n",
    "    if re.match(r\"^#\\w+\\W*#?|^\\*\\w+\\W*\\*?|^<\\w+\\W*<?|^\\$\\w+\\W*\\$?\", word):\n",
    "        return True\n",
    "    return False"
   ]
  }
 ],
 "metadata": {
  "kernelspec": {
   "display_name": "Python 3",
   "language": "python",
   "name": "python3"
  },
  "language_info": {
   "codemirror_mode": {
    "name": "ipython",
    "version": 3
   },
   "file_extension": ".py",
   "mimetype": "text/x-python",
   "name": "python",
   "nbconvert_exporter": "python",
   "pygments_lexer": "ipython3",
   "version": "3.6.9"
  },
  "toc": {
   "base_numbering": 1,
   "nav_menu": {},
   "number_sections": true,
   "sideBar": true,
   "skip_h1_title": true,
   "title_cell": "Table of Contents",
   "title_sidebar": "Contents",
   "toc_cell": false,
   "toc_position": {},
   "toc_section_display": true,
   "toc_window_display": true
  }
 },
 "nbformat": 4,
 "nbformat_minor": 2
}
